{
 "cells": [
  {
   "cell_type": "code",
   "execution_count": 2,
   "metadata": {},
   "outputs": [],
   "source": [
    "\n",
    "session_str = \"projects/jeera-chatbot-for-food-de-n9nf/agent/sessions/93b5eb59-9613-f312-1ae0-dc8b2baf1ea6/contexts/ongoing-order\""
   ]
  },
  {
   "cell_type": "code",
   "execution_count": 3,
   "metadata": {},
   "outputs": [],
   "source": [
    "import re\n",
    "match = re.search(r\"/sessions/(.*?)/contexts/\",session_str)"
   ]
  },
  {
   "cell_type": "code",
   "execution_count": 7,
   "metadata": {},
   "outputs": [
    {
     "data": {
      "text/plain": [
       "'93b5eb59-9613-f312-1ae0-dc8b2baf1ea6'"
      ]
     },
     "execution_count": 7,
     "metadata": {},
     "output_type": "execute_result"
    }
   ],
   "source": [
    "(match.group(1))"
   ]
  },
  {
   "cell_type": "code",
   "execution_count": 35,
   "metadata": {},
   "outputs": [],
   "source": [
    "# if session_id not in inprogress_orders.keys():\n",
    "    # inprogress_orders[session_id] = food_dict\n",
    "# else:\n",
    "    # inprogress_orders[session_id].update(food_dict[session_id])\n",
    "main = {\"sid_1\" : {\n",
    "  \"brand\": \"Ford\",\n",
    "  \"model\": \"Mustang\",\n",
    "  \"year\": 1964\n",
    "},\n",
    "\"sid_2\" : {\n",
    "  \"brand\": \"Ford\",\n",
    "  \"model\": \"Mustang\",\n",
    "  \"year\": 1964\n",
    "}\n",
    "}"
   ]
  },
  {
   "cell_type": "code",
   "execution_count": 34,
   "metadata": {},
   "outputs": [],
   "source": [
    "temp = {\"sid_1\" : {\n",
    "  \"brand1\": \"Ford\",\n",
    "  \"model\": \"Mustang\",\n",
    "  \"year\": 1964\n",
    "},\n",
    "\"sid_3\" : {\n",
    "  \"brand\": \"Ford\",\n",
    "  \"model\": \"Mustang\",\n",
    "  \"year\": 1964\n",
    "}\n",
    "}"
   ]
  },
  {
   "cell_type": "code",
   "execution_count": 36,
   "metadata": {},
   "outputs": [],
   "source": [
    "for key in temp.keys():\n",
    "    if key not in main.keys():\n",
    "        main[key] = temp[key]\n",
    "    else:\n",
    "        main[key].update(temp[key])\n",
    "\n",
    "        "
   ]
  },
  {
   "cell_type": "code",
   "execution_count": 37,
   "metadata": {},
   "outputs": [
    {
     "data": {
      "text/plain": [
       "{'sid_1': {'brand': 'Ford',\n",
       "  'model': 'Mustang',\n",
       "  'year': 1964,\n",
       "  'brand1': 'Ford'},\n",
       " 'sid_2': {'brand': 'Ford', 'model': 'Mustang', 'year': 1964},\n",
       " 'sid_3': {'brand': 'Ford', 'model': 'Mustang', 'year': 1964}}"
      ]
     },
     "execution_count": 37,
     "metadata": {},
     "output_type": "execute_result"
    }
   ],
   "source": [
    "main['sid_2'].update({})"
   ]
  },
  {
   "cell_type": "code",
   "execution_count": 38,
   "metadata": {},
   "outputs": [],
   "source": [
    "d = {\n",
    "  \"brand\": \"Ford\",\n",
    "  \"model\": \"Mustang\",\n",
    "  \"year\": 1964\n",
    "}"
   ]
  },
  {
   "cell_type": "code",
   "execution_count": 39,
   "metadata": {},
   "outputs": [],
   "source": [
    "d['year'] = 2023"
   ]
  },
  {
   "cell_type": "code",
   "execution_count": 40,
   "metadata": {},
   "outputs": [
    {
     "data": {
      "text/plain": [
       "{'brand': 'Ford', 'model': 'Mustang', 'year': 2023}"
      ]
     },
     "execution_count": 40,
     "metadata": {},
     "output_type": "execute_result"
    }
   ],
   "source": [
    "d"
   ]
  },
  {
   "cell_type": "code",
   "execution_count": 1,
   "metadata": {},
   "outputs": [],
   "source": [
    "image_filenames = [\n",
    "    \"pav_bhaji.jpg\",\n",
    "    \"chole_bhature.jpg\",\n",
    "    \"pizza.jpg\",\n",
    "    \"mango_lassi.jpg\",\n",
    "    \"masala_dosa.jpg\",\n",
    "    \"biryani.jpg\",\n",
    "    \"vada_pav.jpg\",\n",
    "    \"rava_dosa.jpg\",\n",
    "    \"samosa.jpg\"\n",
    "]\n"
   ]
  },
  {
   "cell_type": "code",
   "execution_count": 4,
   "metadata": {},
   "outputs": [],
   "source": [
    "for filename in image_filenames:\n",
    "    with open(f\"./frontend/images/{filename}\",\"w\") as file:\n",
    "        file.write(\"this is image file\")"
   ]
  },
  {
   "cell_type": "code",
   "execution_count": 7,
   "metadata": {},
   "outputs": [
    {
     "name": "stdout",
     "output_type": "stream",
     "text": [
      "Renamed: chole_bhature_new.jpg to pav_bhaji.jpg\n",
      "Renamed: masala_dosa_new.jpg to chole_bhature.jpg\n",
      "Renamed: vada_pav_new.jpg to pizza.jpg\n",
      "Renamed: samosa_new.jpg to mango_lassi.jpg\n",
      "Renamed: rava_dosa_new.jpg to masala_dosa.jpg\n",
      "Renamed: biryani_new.jpg to biryani.jpg\n",
      "Renamed: pav_bhaji_new.jpg to vada_pav.jpg\n",
      "Renamed: pizza_new.jpg to rava_dosa.jpg\n",
      "Renamed: mango_lassi_new.jpg to samosa.jpg\n",
      "File renaming completed!\n"
     ]
    }
   ],
   "source": [
    "import os\n",
    "\n",
    "# List of current image filenames\n",
    "current_filenames =os.listdir(\"./frontend/images/\")\n",
    "\n",
    "# List of new image filenames\n",
    "new_filenames = [\n",
    "    \"pav_bhaji.jpg\",\n",
    "    \"chole_bhature.jpg\",\n",
    "    \"pizza.jpg\",\n",
    "    \"mango_lassi.jpg\",\n",
    "    \"masala_dosa.jpg\",\n",
    "    \"biryani.jpg\",\n",
    "    \"vada_pav.jpg\",\n",
    "    \"rava_dosa.jpg\",\n",
    "    \"samosa.jpg\"\n",
    "]\n",
    "\n",
    "# Directory where images are saved\n",
    "image_directory = \"./frontend/images/\"\n",
    "\n",
    "# Renaming files\n",
    "for current, new in zip(current_filenames, new_filenames):\n",
    "    current_filepath = os.path.join(image_directory, current)\n",
    "    new_filepath = os.path.join(image_directory, new)\n",
    "    if os.path.exists(current_filepath):\n",
    "        os.rename(current_filepath, new_filepath)\n",
    "        print(f\"Renamed: {current} to {new}\")\n",
    "    else:\n",
    "        print(f\"File not found: {current}\")\n",
    "\n",
    "print(\"File renaming completed!\")\n"
   ]
  },
  {
   "cell_type": "code",
   "execution_count": null,
   "metadata": {},
   "outputs": [],
   "source": []
  }
 ],
 "metadata": {
  "kernelspec": {
   "display_name": ".venv",
   "language": "python",
   "name": "python3"
  },
  "language_info": {
   "codemirror_mode": {
    "name": "ipython",
    "version": 3
   },
   "file_extension": ".py",
   "mimetype": "text/x-python",
   "name": "python",
   "nbconvert_exporter": "python",
   "pygments_lexer": "ipython3",
   "version": "3.10.12"
  }
 },
 "nbformat": 4,
 "nbformat_minor": 2
}
